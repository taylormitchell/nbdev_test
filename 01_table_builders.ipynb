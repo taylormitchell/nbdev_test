{
 "cells": [
  {
   "cell_type": "code",
   "execution_count": null,
   "metadata": {},
   "outputs": [],
   "source": [
    "# default_exp table_builders"
   ]
  },
  {
   "cell_type": "markdown",
   "metadata": {},
   "source": [
    "## Table Builders"
   ]
  },
  {
   "cell_type": "markdown",
   "metadata": {},
   "source": [
    "A table builder is function or class who's main purpose is to create a specific table out of one or more input tables"
   ]
  },
  {
   "cell_type": "code",
   "execution_count": 5,
   "metadata": {},
   "outputs": [],
   "source": [
    "# export\n",
    "import pandas as pd"
   ]
  },
  {
   "cell_type": "code",
   "execution_count": 6,
   "metadata": {},
   "outputs": [],
   "source": [
    "# export\n",
    "def payroll_issues_builder(payern):\n",
    "    \"\"\"Create payroll issues table\n",
    "    Args:\n",
    "        payern (DataFrame): pay earnings table (or snapshot)\n",
    "    \"\"\"\n",
    "\n",
    "    payroll_issues = payern.pivot_table(\n",
    "        values=['is_finalized', 'is_late'],\n",
    "        aggfunc={'is_finalized':['count','sum','mean'],\n",
    "                 'is_late':['sum','mean'],\n",
    "                 },\n",
    "        index=['EMPLID','EMPL_RCD','SUB_PAY_END_DT'])\n",
    "    \n",
    "    payroll_issues"
   ]
  },
  {
   "cell_type": "code",
   "execution_count": null,
   "metadata": {},
   "outputs": [],
   "source": []
  }
 ],
 "metadata": {
  "kernelspec": {
   "display_name": "Python 3",
   "language": "python",
   "name": "python3"
  },
  "language_info": {
   "codemirror_mode": {
    "name": "ipython",
    "version": 3
   },
   "file_extension": ".py",
   "mimetype": "text/x-python",
   "name": "python",
   "nbconvert_exporter": "python",
   "pygments_lexer": "ipython3",
   "version": "3.7.1"
  }
 },
 "nbformat": 4,
 "nbformat_minor": 2
}
